{
 "cells": [
  {
   "cell_type": "code",
   "execution_count": null,
   "id": "ee8598eb",
   "metadata": {},
   "outputs": [],
   "source": [
    "# Cannonical Library\n",
    "\n",
    "1+1"
   ]
  },
  {
   "cell_type": "code",
   "execution_count": 6,
   "id": "17f1b4ba",
   "metadata": {},
   "outputs": [],
   "source": [
    "# Import Packages"
   ]
  },
  {
   "cell_type": "code",
   "execution_count": 10,
   "id": "ae889079",
   "metadata": {},
   "outputs": [],
   "source": [
    "# GUI \n",
    "\n",
    "#which widget to use? \n",
    "#wx \n",
    "#or #tkinter"
   ]
  },
  {
   "cell_type": "code",
   "execution_count": null,
   "metadata": {},
   "outputs": [],
   "source": [
    "# code widget to accept user input"
   ]
  },
  {
   "cell_type": "code",
   "execution_count": 9,
   "id": "a6594d27",
   "metadata": {},
   "outputs": [],
   "source": [
    "# SIP math goes here \n",
    "# .bind()"
   ]
  },
  {
   "cell_type": "code",
   "execution_count": 11,
   "id": "960455ba",
   "metadata": {},
   "outputs": [
    {
     "name": "stdout",
     "output_type": "stream",
     "text": [
      "hello gavin\n"
     ]
    }
   ],
   "source": [
    "print(\"hello gavin\")"
   ]
  },
  {
   "cell_type": "code",
   "execution_count": null,
   "id": "003c9ed7",
   "metadata": {},
   "outputs": [],
   "source": []
  },
  {
   "cell_type": "code",
   "execution_count": null,
   "id": "a147ac6f",
   "metadata": {},
   "outputs": [],
   "source": []
  }
 ],
 "metadata": {
  "kernelspec": {
   "display_name": "Python 3",
   "language": "python",
   "name": "python3"
  },
  "language_info": {
   "codemirror_mode": {
    "name": "ipython",
    "version": 3
   },
   "file_extension": ".py",
   "mimetype": "text/x-python",
   "name": "python",
   "nbconvert_exporter": "python",
   "pygments_lexer": "ipython3",
   "version": "3.8.8"
  }
 },
 "nbformat": 4,
 "nbformat_minor": 5
}
