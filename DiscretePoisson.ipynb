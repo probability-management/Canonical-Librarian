{
 "cells": [
  {
   "cell_type": "code",
   "execution_count": null,
   "id": "ee8598eb",
   "metadata": {},
   "outputs": [],
   "source": [
    "# Cannonical Library"
   ]
  },
  {
   "cell_type": "code",
   "execution_count": 6,
   "id": "17f1b4ba",
   "metadata": {},
   "outputs": [],
   "source": [
    "# Import Packages"
   ]
  },
  {
   "cell_type": "code",
   "execution_count": 10,
   "id": "ae889079",
   "metadata": {},
   "outputs": [],
   "source": [
    "# GUI "
   ]
  },
  {
   "cell_type": "code",
   "execution_count": 9,
   "id": "a6594d27",
   "metadata": {},
   "outputs": [],
   "source": [
    "# SIP math goes here "
   ]
  },
  {
   "cell_type": "code",
   "execution_count": 11,
   "id": "960455ba",
   "metadata": {},
   "outputs": [
    {
     "name": "stdout",
     "output_type": "stream",
     "text": [
      "hello gavin\n"
     ]
    }
   ],
   "source": [
    "print(\"hello gavin\")"
   ]
  },
  {
   "cell_type": "code",
   "execution_count": null,
   "id": "003c9ed7",
   "metadata": {},
   "outputs": [],
   "source": []
  },
  {
   "cell_type": "code",
   "execution_count": null,
   "id": "a147ac6f",
   "metadata": {},
   "outputs": [],
   "source": []
  }
 ],
 "metadata": {
  "kernelspec": {
   "display_name": "Python 3",
   "language": "python",
   "name": "python3"
  },
  "language_info": {
   "codemirror_mode": {
    "name": "ipython",
    "version": 3
   },
   "file_extension": ".py",
   "mimetype": "text/x-python",
   "name": "python",
   "nbconvert_exporter": "python",
   "pygments_lexer": "ipython3",
   "version": "3.8.8"
  }
 },
 "nbformat": 4,
 "nbformat_minor": 5
}
